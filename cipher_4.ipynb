{
 "cells": [
  {
   "cell_type": "code",
   "execution_count": null,
   "metadata": {},
   "outputs": [
    {
     "name": "stdout",
     "output_type": "stream",
     "text": [
      "Your secret message is znoy oy yu iuur\n"
     ]
    }
   ],
   "source": [
    "#ENCRYPTION CODE\n",
    "alphabet = \"abcdefghijklmnopqrstuvwxyz\"\n",
    "new_message = \"\"\n",
    "\n",
    "user_message = input(\"Enter your secret message: \").lower()\n",
    "key = int(input(\"Enter a key (1 through 26): \"))\n",
    "#print(user_input)\n",
    "\n",
    "for character in user_message:\n",
    "    if character in alphabet:\n",
    "        position = alphabet.find(character)\n",
    "        new_position = (position + key) % 26\n",
    "        new_character = alphabet[new_position]\n",
    "        new_message += new_character\n",
    "\n",
    "    else:\n",
    "        new_message += character\n",
    "print(\"Your secret message is \" + new_message)\n"
   ]
  },
  {
   "cell_type": "code",
   "execution_count": null,
   "metadata": {},
   "outputs": [
    {
     "name": "stdout",
     "output_type": "stream",
     "text": [
      "Your secret message is this is so cool\n"
     ]
    }
   ],
   "source": [
    "#DECRYPTION CODE\n",
    "alphabet = \"abcdefghijklmnopqrstuvwxyz\"\n",
    "new_message = \"\"\n",
    "\n",
    "user_message = input(\"Enter your secret message: \").lower()\n",
    "key = int(input(\"Enter a key (1 through 26): \"))\n",
    "#print(user_input)\n",
    "\n",
    "for character in user_message:\n",
    "    if character in alphabet:\n",
    "        position = alphabet.find(character)\n",
    "        new_position = (position - key) % 26\n",
    "        new_character = alphabet[new_position]\n",
    "        new_message += new_character\n",
    "\n",
    "    else:\n",
    "        new_message += character\n",
    "print(\"Your secret message is \" + new_message)"
   ]
  }
 ],
 "metadata": {
  "kernelspec": {
   "display_name": "Python 3",
   "language": "python",
   "name": "python3"
  },
  "language_info": {
   "codemirror_mode": {
    "name": "ipython",
    "version": 3
   },
   "file_extension": ".py",
   "mimetype": "text/x-python",
   "name": "python",
   "nbconvert_exporter": "python",
   "pygments_lexer": "ipython3",
   "version": "3.13.0"
  }
 },
 "nbformat": 4,
 "nbformat_minor": 2
}
